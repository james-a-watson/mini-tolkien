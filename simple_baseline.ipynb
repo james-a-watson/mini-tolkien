{
 "cells": [
  {
   "cell_type": "markdown",
   "metadata": {},
   "source": [
    "With the goal of building a mini-tolkien LLM from scratch I will start just with some basic ideas to understand how LLMs predict the next token.    "
   ]
  },
  {
   "cell_type": "code",
   "execution_count": 28,
   "metadata": {},
   "outputs": [
    {
     "name": "stdout",
     "output_type": "stream",
     "text": [
      "Lord of the Rings content loaded. Char count = 1021112\n"
     ]
    }
   ],
   "source": [
    "with open(\"the_lord_of_the_rings.txt\", \"r\") as f:\n",
    "    lotr = f.read()\n",
    "print(\"Lord of the Rings content loaded. Char count =\", len(lotr))"
   ]
  },
  {
   "cell_type": "code",
   "execution_count": 29,
   "metadata": {},
   "outputs": [
    {
     "name": "stdout",
     "output_type": "stream",
     "text": [
      "Three Rings for the Elven-kings under the sky,\n",
      "               Seven for the Dwarf-lords in their halls of stone,\n",
      "            Nine for Mortal Men doomed to die,\n",
      "              One for the Dark Lord on his dark throne\n",
      "           In the Land of Mordor where the Shadows lie.\n",
      "               One Ring to rule them all, One Ring to find them,\n",
      "               One Ring to bring them all and in the darkness bind them\n",
      "           In the Land of Mordor where the Shadows lie.\n",
      "           \n",
      "FOREWORD\n",
      "\n",
      "This tale grew\n"
     ]
    }
   ],
   "source": [
    "print(lotr[0:500])"
   ]
  },
  {
   "cell_type": "code",
   "execution_count": 30,
   "metadata": {},
   "outputs": [
    {
     "data": {
      "text/plain": [
       "'\\n !\"\\'(),-./0123456789:;=?ABCDEFGHIJKLMNOPQRSTUVWXYZ_`abcdefghijklmnopqrstuvwxyzÓáâäéëíóúû–'"
      ]
     },
     "execution_count": 30,
     "metadata": {},
     "output_type": "execute_result"
    }
   ],
   "source": [
    "chars = sorted(list(set(lotr))) # This is our vocab list. Just single characters for now.\n",
    "\"\".join(chars) "
   ]
  },
  {
   "cell_type": "markdown",
   "metadata": {},
   "source": [
    "This is the vocab list since I'm just going to start with next token generation based on one token prior. \n",
    "\n",
    "Real LLMs use 50000+ item vocab lists where the elements are words and parts of words. \n",
    "\n",
    "With that I will now add an encoder and decoder."
   ]
  },
  {
   "cell_type": "code",
   "execution_count": 31,
   "metadata": {},
   "outputs": [],
   "source": [
    "stoi =  { ch: i for i, ch in enumerate(chars)} # dict mapping string chars to int tokens.\n",
    "itos =  { i: ch for i, ch in enumerate(chars)} # dict mapping tokens back to strings.\n",
    "\n",
    "# with these mapping dicts we can write simple decode and encode functions.\n",
    "encode = lambda s : [stoi[c] for c in s]\n",
    "decode = lambda l : \"\".join([itos[i] for i in l])"
   ]
  },
  {
   "cell_type": "code",
   "execution_count": 32,
   "metadata": {},
   "outputs": [
    {
     "name": "stdout",
     "output_type": "stream",
     "text": [
      "[32, 61, 1, 72, 60, 57, 70, 57, 2]\n",
      "Hi there!\n"
     ]
    }
   ],
   "source": [
    "print(encode(\"Hi there!\"))\n",
    "print(decode(encode(\"Hi there!\")))"
   ]
  },
  {
   "cell_type": "markdown",
   "metadata": {},
   "source": [
    "Great!"
   ]
  },
  {
   "cell_type": "code",
   "execution_count": 33,
   "metadata": {},
   "outputs": [
    {
     "name": "stdout",
     "output_type": "stream",
     "text": [
      "torch.Size([1021112]) torch.int64\n",
      "\n",
      "Three Rings for the Elven-kings under the sky,\n",
      "   \n",
      "tensor([44, 60, 70, 57, 57,  1, 42, 61, 66, 59, 71,  1, 58, 67, 70,  1, 72, 60,\n",
      "        57,  1, 29, 64, 74, 57, 66,  8, 63, 61, 66, 59, 71,  1, 73, 66, 56, 57,\n",
      "        70,  1, 72, 60, 57,  1, 71, 63, 77,  7,  0,  1,  1,  1])\n"
     ]
    }
   ],
   "source": [
    "import torch\n",
    "data = torch.tensor(encode(lotr), dtype=torch.long)\n",
    "print(data.shape, data.dtype)\n",
    "print()\n",
    "print(lotr[0:50])\n",
    "print(data[0:50])"
   ]
  },
  {
   "cell_type": "markdown",
   "metadata": {},
   "source": [
    "Before doing any more let's do a little train-test split."
   ]
  },
  {
   "cell_type": "code",
   "execution_count": 34,
   "metadata": {},
   "outputs": [
    {
     "name": "stdout",
     "output_type": "stream",
     "text": [
      "Train data length: 919000\n",
      "Test data length: 102112\n"
     ]
    }
   ],
   "source": [
    "def train_test_split(data: list, split_size: int): \n",
    "    split_index = int(len(data)*split_size)\n",
    "    return data[0:split_index], data[split_index:]\n",
    "\n",
    "train_data, test_data = train_test_split(data, 0.9)\n",
    "print(\"Train data length:\", len(train_data))\n",
    "print(\"Test data length:\", len(test_data))"
   ]
  },
  {
   "cell_type": "code",
   "execution_count": 35,
   "metadata": {},
   "outputs": [
    {
     "data": {
      "text/plain": [
       "tensor([44, 60, 70, 57, 57,  1, 42, 61, 66])"
      ]
     },
     "execution_count": 35,
     "metadata": {},
     "output_type": "execute_result"
    }
   ],
   "source": [
    "block_size = 8\n",
    "train_data[:block_size+1]"
   ]
  },
  {
   "cell_type": "code",
   "execution_count": 36,
   "metadata": {},
   "outputs": [
    {
     "name": "stdout",
     "output_type": "stream",
     "text": [
      "Inputs:\n",
      "\n",
      "tensor([[ 1, 68, 70, 67, 55, 57, 57, 56],\n",
      "        [66, 56,  1, 72, 60, 61, 66, 63],\n",
      "        [72, 60, 53, 72,  1, 60, 53, 56],\n",
      "        [ 1, 72, 60, 57, 65,  1, 75, 60]])\n",
      "-----\n",
      "Targets:\n",
      "\n",
      "tensor([[68, 70, 67, 55, 57, 57, 56, 71],\n",
      "        [56,  1, 72, 60, 61, 66, 63, 61],\n",
      "        [60, 53, 72,  1, 60, 53, 56,  1],\n",
      "        [72, 60, 57, 65,  1, 75, 60, 57]])\n",
      "-----\n",
      "when input is [1] the target is: 68\n",
      "when input is [1, 68] the target is: 70\n",
      "when input is [1, 68, 70] the target is: 67\n",
      "when input is [1, 68, 70, 67] the target is: 55\n",
      "when input is [1, 68, 70, 67, 55] the target is: 57\n",
      "when input is [1, 68, 70, 67, 55, 57] the target is: 57\n",
      "when input is [1, 68, 70, 67, 55, 57, 57] the target is: 56\n",
      "when input is [1, 68, 70, 67, 55, 57, 57, 56] the target is: 71\n",
      "when input is [66] the target is: 56\n",
      "when input is [66, 56] the target is: 1\n",
      "when input is [66, 56, 1] the target is: 72\n",
      "when input is [66, 56, 1, 72] the target is: 60\n",
      "when input is [66, 56, 1, 72, 60] the target is: 61\n",
      "when input is [66, 56, 1, 72, 60, 61] the target is: 66\n",
      "when input is [66, 56, 1, 72, 60, 61, 66] the target is: 63\n",
      "when input is [66, 56, 1, 72, 60, 61, 66, 63] the target is: 61\n",
      "when input is [72] the target is: 60\n",
      "when input is [72, 60] the target is: 53\n",
      "when input is [72, 60, 53] the target is: 72\n",
      "when input is [72, 60, 53, 72] the target is: 1\n",
      "when input is [72, 60, 53, 72, 1] the target is: 60\n",
      "when input is [72, 60, 53, 72, 1, 60] the target is: 53\n",
      "when input is [72, 60, 53, 72, 1, 60, 53] the target is: 56\n",
      "when input is [72, 60, 53, 72, 1, 60, 53, 56] the target is: 1\n",
      "when input is [1] the target is: 72\n",
      "when input is [1, 72] the target is: 60\n",
      "when input is [1, 72, 60] the target is: 57\n",
      "when input is [1, 72, 60, 57] the target is: 65\n",
      "when input is [1, 72, 60, 57, 65] the target is: 1\n",
      "when input is [1, 72, 60, 57, 65, 1] the target is: 75\n",
      "when input is [1, 72, 60, 57, 65, 1, 75] the target is: 60\n",
      "when input is [1, 72, 60, 57, 65, 1, 75, 60] the target is: 57\n"
     ]
    }
   ],
   "source": [
    "torch.manual_seed(3791) # Set manual seed for repeatability. There Rings for the Elven-kings... and so on.\n",
    "\n",
    "batch_size = 4 # Number independant sequences of tokens we will process in parrallel\n",
    "block_size = 8 # Maximum context length for predictions\n",
    "\n",
    "def get_batch(data):\n",
    "    ix = torch.randint(len(data) - block_size, (batch_size,))\n",
    "    x = torch.stack([data[i:i+block_size] for i in ix])\n",
    "    y = torch.stack([data[i+1:i+block_size+1] for i in ix])\n",
    "    return x, y, \n",
    "\n",
    "xb, yb = get_batch(train_data)\n",
    "\n",
    "print(\"Inputs:\")\n",
    "print()\n",
    "print(xb)\n",
    "print(\"-----\")\n",
    "print(\"Targets:\")\n",
    "print()\n",
    "print(yb)\n",
    "print(\"-----\")\n",
    "\n",
    "for b in range(batch_size):\n",
    "    for t in range(block_size):\n",
    "        context = xb[b, :t+1]\n",
    "        target = yb[b,t]\n",
    "        print(f\"when input is {context.tolist()} the target is: {target}\")"
   ]
  },
  {
   "cell_type": "code",
   "execution_count": 37,
   "metadata": {},
   "outputs": [
    {
     "data": {
      "text/plain": [
       "tensor([[ 1, 68, 70, 67, 55, 57, 57, 56, 41,  4],\n",
       "        [66, 56,  1, 72, 60, 61, 66, 63,  9,  9],\n",
       "        [72, 60, 53, 72,  1, 60, 53, 56,  1, 54],\n",
       "        [ 1, 72, 60, 57, 65,  1, 75, 60, 14, 86]])"
      ]
     },
     "execution_count": 37,
     "metadata": {},
     "output_type": "execute_result"
    }
   ],
   "source": [
    "import torch.nn as nn\n",
    "from torch.nn import functional as F\n",
    "\n",
    "class BigramLanguageModel(nn.Module):\n",
    "    def __init__(self, vocab_size) -> None:\n",
    "        super().__init__()\n",
    "        self.token_embedding_table = nn.Embedding(vocab_size, vocab_size)\n",
    "    \n",
    "    def forward(self, idx, targets=None):\n",
    "        # Batch x Time x Channel, tensor prediction of what is next\n",
    "        logits = self.token_embedding_table(idx) \n",
    "\n",
    "        if targets is None:\n",
    "            loss = None\n",
    "        else:\n",
    "            # Based on the PyTorch docs we need a B*C x T tensor to calcualate loss\n",
    "            B, T, C = logits.shape\n",
    "            logits = logits.view(B*T, C)\n",
    "            targets = targets.view(B*T)\n",
    "            loss = F.cross_entropy(logits, targets)\n",
    "\n",
    "        return logits , loss \n",
    "    \n",
    "    def generate(self, idx, max_new_tokens):\n",
    "        # idx is (B, T) array of indices in the current context.\n",
    "        for _ in range(max_new_tokens):\n",
    "            logits, loss = self(idx)\n",
    "            logits = logits[:, -1, :] \n",
    "            probs = F.softmax(logits, dim=-1) \n",
    "            idx_next = torch.multinomial(probs, num_samples=1)\n",
    "            idx = torch.cat((idx, idx_next), dim=1)\n",
    "        return idx\n",
    "    \n",
    "m = BigramLanguageModel(len(chars)) \n",
    "m.generate(xb, 2)"
   ]
  },
  {
   "cell_type": "code",
   "execution_count": 38,
   "metadata": {},
   "outputs": [
    {
     "data": {
      "text/plain": [
       "\"\\n/9IFF;?Iú_M,KCnáJ9Cíkou cdwâ=O4GE4N 9-wlg7M;:3bjaëu`Y8Ná/)7fYy8\\n,ëiWMKë=WëeD upjuUú/qSäc)FTk'4?Y–á3i\""
      ]
     },
     "execution_count": 38,
     "metadata": {},
     "output_type": "execute_result"
    }
   ],
   "source": [
    "idx_init = torch.zeros((1, 1), dtype=torch.long)\n",
    "decode(m.generate(idx_init, max_new_tokens=100)[0].tolist())"
   ]
  },
  {
   "cell_type": "markdown",
   "metadata": {},
   "source": [
    "This is a start but we can do better. \n",
    "\n",
    "We need three things to improve performance with the use of a training loop.\n",
    "\n",
    "optimizer, loss, back prop"
   ]
  },
  {
   "cell_type": "code",
   "execution_count": 39,
   "metadata": {},
   "outputs": [],
   "source": [
    "optimizer = torch.optim.AdamW(m.parameters(), lr=1e-3)"
   ]
  },
  {
   "cell_type": "code",
   "execution_count": 40,
   "metadata": {},
   "outputs": [
    {
     "data": {
      "text/plain": [
       "<matplotlib.collections.PathCollection at 0x157802c10>"
      ]
     },
     "execution_count": 40,
     "metadata": {},
     "output_type": "execute_result"
    },
    {
     "data": {
      "image/png": "[encoded data removed]",
      "text/plain": [
       "<Figure size 640x480 with 1 Axes>"
      ]
     },
     "metadata": {},
     "output_type": "display_data"
    }
   ],
   "source": [
    "batch_size = 32\n",
    "number_of_steps = 10000\n",
    "losses = []\n",
    "\n",
    "for steps in range(number_of_steps):\n",
    "    xb, yb = get_batch(train_data)\n",
    "\n",
    "    logits, loss = m(xb, yb)\n",
    "    optimizer.zero_grad(set_to_none=True)\n",
    "    loss.backward()\n",
    "    optimizer.step()\n",
    "\n",
    "    losses.append(loss.item())\n",
    "\n",
    "from matplotlib import pyplot as plt\n",
    "\n",
    "plt.scatter(range(0, 10000), losses)"
   ]
  },
  {
   "cell_type": "markdown",
   "metadata": {},
   "source": [
    "With this trained model we can just have a generate function for now."
   ]
  },
  {
   "cell_type": "code",
   "execution_count": 41,
   "metadata": {},
   "outputs": [
    {
     "name": "stdout",
     "output_type": "stream",
     "text": [
      "\n",
      "\n",
      " Nowongllopt mWend ooprsh f an  he if is s me `bon; y f lld in r tan,  atu we. she ADauthe ank Angarise foforsoon '\n",
      " w y ind   n  anxand a e dy f M, cav_ARily oy Galeindofr os cr.=/äpid rcad  iny sht, '\n",
      " oan.\n",
      " wit w rnd Se   'thalll  h).' tivewn t2_\n",
      " 'Arolin the, btlorsidoune ng. wde\n",
      " g thelyey t A/eng w se sthet My Fome  wimood rlelbs ay,  s fe.ät iOf aret!ldis Thandsere Fou!ë' é'I anghe s wastunth RFOritheeresepremy: pe hinuent heme hép Th awea`Ridobowhiroot Brs t wngashayoumanut-m h senouPif wid frmin heigrd p  ArerKGaroondorCo fi03G; foruto spearen t owitenou ved an Oful Hing if pt oryoof rme wawinean le arlat. theng theark   ind  t. t mm.  n  isaine ?'\n",
      " uchut t  Galilin kEntoan afan irideausited ptrot`Brd agstheeshere  issat t t  e  ngaá/Ourowe so t xtit sarouthad?', tooway vee I is; blden'ok wagrd thevemit skeer ous ckery;_, rs. ds doutherad wind  he, to s oul sande, akiellyshedope se hesude imof f tr wed d whad anthp co ws, m,' akelifoprso jQDebu Br a  eetordofe  ade!\n",
      " nd de r \n"
     ]
    }
   ],
   "source": [
    "def generate_text(model, text_length):\n",
    "    idx_init = torch.zeros((1, 1), dtype=torch.long)\n",
    "    return decode(model.generate(idx_init, max_new_tokens=text_length)[0].tolist())\n",
    "\n",
    "print(generate_text(m, 1000))"
   ]
  },
  {
   "cell_type": "markdown",
   "metadata": {},
   "source": [
    "That's a bit closer. More elvish than english I think :)"
   ]
  }
 ],
 "metadata": {
  "kernelspec": {
   "display_name": "base",
   "language": "python",
   "name": "python3"
  },
  "language_info": {
   "codemirror_mode": {
    "name": "ipython",
    "version": 3
   },
   "file_extension": ".py",
   "mimetype": "text/x-python",
   "name": "python",
   "nbconvert_exporter": "python",
   "pygments_lexer": "ipython3",
   "version": "3.11.4"
  }
 },
 "nbformat": 4,
 "nbformat_minor": 2
}
