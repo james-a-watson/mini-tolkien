{
 "cells": [
  {
   "cell_type": "markdown",
   "metadata": {},
   "source": [
    "## Getting Data"
   ]
  },
  {
   "cell_type": "code",
   "execution_count": 74,
   "metadata": {},
   "outputs": [],
   "source": [
    "import torch\n",
    "from torch import nn\n",
    "from torch.nn import functional as F\n",
    "\n",
    "torch.manual_seed(3791)\n",
    "\n",
    "batch_size = 4 # Number independant sequences of tokens we will process in parrallel\n",
    "block_size = 8 # Maximum context length for predictions\n",
    "\n",
    "with open('the_lord_of_the_rings.txt', 'r', encoding='utf-8') as f:\n",
    "    text = f.read()\n",
    "\n",
    "# here are all the unique characters that occur in this text\n",
    "chars = sorted(list(set(text)))\n",
    "vocab_size = len(chars)\n",
    "# create a mapping from characters to integers\n",
    "stoi = { ch:i for i,ch in enumerate(chars) }\n",
    "itos = { i:ch for i,ch in enumerate(chars) }\n",
    "encode = lambda s: [stoi[c] for c in s] # encoder: take a string, output a list of integers\n",
    "decode = lambda l: ''.join([itos[i] for i in l]) # decoder: take a list of integers, output a string\n",
    "\n",
    "# Train and test splits\n",
    "data = torch.tensor(encode(text), dtype=torch.long)\n",
    "n = int(0.9*len(data)) # first 90% will be train, rest val\n",
    "train_data = data[:n]\n",
    "val_data = data[n:]\n",
    "\n",
    "def get_batch(data):\n",
    "    ix = torch.randint(len(data) - block_size, (batch_size,))\n",
    "    x = torch.stack([data[i:i+block_size] for i in ix])\n",
    "    y = torch.stack([data[i+1:i+block_size+1] for i in ix])\n",
    "    return x, y \n"
   ]
  },
  {
   "cell_type": "markdown",
   "metadata": {},
   "source": [
    "## Self Attention\n",
    "\n",
    "\n",
    "Using this famous paper: https://arxiv.org/pdf/1706.03762.pdf\n",
    "\n",
    "---"
   ]
  },
  {
   "cell_type": "markdown",
   "metadata": {},
   "source": [
    "### Embedding Table\n",
    "\n",
    "We need to use an Embedding table to capture and update the relationships between characters in the vocab list as we go."
   ]
  },
  {
   "cell_type": "code",
   "execution_count": 87,
   "metadata": {},
   "outputs": [
    {
     "name": "stdout",
     "output_type": "stream",
     "text": [
      "tensor([[-1.2100,  0.1014,  1.1654,  1.0570,  0.2988]],\n",
      "       grad_fn=<EmbeddingBackward0>)\n",
      "tensor([[-1.7554, -0.7894,  1.0513,  0.6006, -0.8928]],\n",
      "       grad_fn=<EmbeddingBackward0>)\n",
      "tensor([[-0.1085,  0.6277,  2.6693,  0.1526,  0.7515]],\n",
      "       grad_fn=<EmbeddingBackward0>)\n",
      "tensor([[-1.0181, -2.0176,  0.1408,  0.3478,  0.8696]],\n",
      "       grad_fn=<EmbeddingBackward0>)\n",
      "tensor([[ 1.8462,  0.4879, -1.2586, -1.0901,  0.0101]],\n",
      "       grad_fn=<EmbeddingBackward0>)\n",
      "index out of range in self\n"
     ]
    }
   ],
   "source": [
    "test_init = torch.zeros((1, 1), dtype=torch.long)\n",
    "\n",
    "test_embedding = nn.Embedding(5, 5)\n",
    "\n",
    "try:\n",
    "    for i in range(6):\n",
    "        print(test_embedding(torch.tensor([i])))\n",
    "except Exception as e:\n",
    "    print(e)"
   ]
  },
  {
   "cell_type": "markdown",
   "metadata": {},
   "source": [
    "The table is embedding table is initialised with random weights and then you can call the values by \"querying\" the table for particular tensor. See above we ar calling with tensors [0], ... , [4] and getting the embedding tensor for each. This can also be done with a tensor of 2 dimensions to get multiple embedding tensors at once."
   ]
  },
  {
   "cell_type": "code",
   "execution_count": 89,
   "metadata": {},
   "outputs": [
    {
     "data": {
      "text/plain": [
       "tensor([[[-1.2100,  0.1014,  1.1654,  1.0570,  0.2988]],\n",
       "\n",
       "        [[-1.7554, -0.7894,  1.0513,  0.6006, -0.8928]]],\n",
       "       grad_fn=<EmbeddingBackward0>)"
      ]
     },
     "execution_count": 89,
     "metadata": {},
     "output_type": "execute_result"
    }
   ],
   "source": [
    "test_embedding(torch.tensor([[0], [1]]))"
   ]
  },
  {
   "cell_type": "markdown",
   "metadata": {},
   "source": [
    "See how with a 2x1 tensor we can call two embeddings. Thus we initialise our Bigram model with an embedding table."
   ]
  },
  {
   "cell_type": "code",
   "execution_count": 93,
   "metadata": {},
   "outputs": [
    {
     "data": {
      "text/plain": [
       "tensor([[-0.0876,  3.3286,  0.4977, -0.9609,  0.8946,  0.4177, -0.1512, -0.2861,\n",
       "         -0.5527,  1.3140, -1.0525, -0.3853, -0.0423, -0.5409,  0.7870, -0.3939,\n",
       "         -0.3354,  0.5560, -1.4857,  2.3415, -0.2716, -0.9588, -0.0415, -0.4185,\n",
       "          0.9533,  1.0256, -0.4132,  0.6246,  1.0264, -0.8354, -1.6811, -1.7241,\n",
       "          0.7894,  0.9853, -1.1641, -0.4127,  0.0541, -0.7060, -0.9298, -1.1425,\n",
       "          0.2372,  0.1258, -0.2515, -0.9482,  1.5741, -1.5166,  1.0181, -0.7520,\n",
       "          0.1802, -0.8544, -0.6815,  1.7143,  0.0286, -0.7098,  1.1863,  0.9302,\n",
       "         -0.6686, -1.0945, -1.7122,  0.2750,  0.7910, -0.1814,  0.3446,  0.9911,\n",
       "         -0.3141, -0.4402,  0.2398, -0.7743,  0.6875,  0.7678,  0.0501,  2.2414,\n",
       "          0.7806, -0.4956, -0.3297,  0.9255, -0.1529,  0.7153, -0.1650,  0.2045,\n",
       "         -1.3085, -0.5446, -0.4912, -0.5072, -0.1396,  0.2392, -1.3948, -1.6194,\n",
       "         -1.9468,  0.3231]], grad_fn=<EmbeddingBackward0>)"
      ]
     },
     "execution_count": 93,
     "metadata": {},
     "output_type": "execute_result"
    }
   ],
   "source": [
    "class ExampleModel(nn.Module):\n",
    "    def __init__(self, vocab_size) -> None:\n",
    "        super().__init__()\n",
    "        self.token_embedding_table = nn.Embedding(vocab_size, vocab_size)\n",
    "\n",
    "model = ExampleModel(len(chars))\n",
    "model.token_embedding_table(torch.tensor([0]))"
   ]
  },
  {
   "cell_type": "markdown",
   "metadata": {},
   "source": [
    "This is the intialised embedding of the first char \" \".\n",
    "\n",
    "---"
   ]
  },
  {
   "cell_type": "markdown",
   "metadata": {},
   "source": [
    "### Forward\n",
    "\n",
    "All Neural Network models require a feed forward process to be defined. This will require that we make a prediction, and calulate the loss of that prediction vs the target."
   ]
  },
  {
   "cell_type": "code",
   "execution_count": 98,
   "metadata": {},
   "outputs": [
    {
     "name": "stdout",
     "output_type": "stream",
     "text": [
      "tensor([59,  1, 75, 53, 71,  1, 53,  1])\n",
      "g was a \n",
      "\n",
      "tensor([ 1, 75, 53, 71,  1, 53,  1, 70])\n",
      " was a r\n"
     ]
    }
   ],
   "source": [
    "xb, yb = get_batch(train_data)\n",
    "print(xb[0])\n",
    "print(decode(xb[0].tolist()))\n",
    "print()\n",
    "print(yb[0])\n",
    "print(decode(yb[0].tolist()))"
   ]
  },
  {
   "cell_type": "markdown",
   "metadata": {},
   "source": [
    "As you can see from above, the first example in the batch has the input (idx) as the set of chars and then the target is shifted one along."
   ]
  },
  {
   "cell_type": "code",
   "execution_count": 101,
   "metadata": {},
   "outputs": [
    {
     "data": {
      "text/plain": [
       "torch.Size([8, 90])"
      ]
     },
     "execution_count": 101,
     "metadata": {},
     "output_type": "execute_result"
    }
   ],
   "source": [
    "prediction = model.token_embedding_table(xb[0]) \n",
    "prediction.shape"
   ]
  },
  {
   "cell_type": "markdown",
   "metadata": {},
   "source": [
    "So the model has used the existing weights to make a prediction. All it has done is call the embeddings of each on the 8 chars in the input. This returns 8 1x90 tensors giving the weights of the prediction that the next char will be each of the chars in the vocab list.\n",
    "\n",
    "We can call for the whole batch together to parallelise the prediction."
   ]
  },
  {
   "cell_type": "code",
   "execution_count": 105,
   "metadata": {},
   "outputs": [
    {
     "data": {
      "text/plain": [
       "torch.Size([4, 8, 90])"
      ]
     },
     "execution_count": 105,
     "metadata": {},
     "output_type": "execute_result"
    }
   ],
   "source": [
    "multi_prediction = model.token_embedding_table(xb) \n",
    "multi_prediction.shape"
   ]
  },
  {
   "cell_type": "markdown",
   "metadata": {},
   "source": [
    "This gets us a (Number of Batches)x(Size of Batch)x(Vocab Size) tensor.\n",
    "\n",
    "The naming convetion of this is logits which is a Batch x Time x Channel tensor.\n",
    "\n",
    "Once, we have this prediction we need to calculated the loss between the logits and the targets using cross entropy. "
   ]
  },
  {
   "cell_type": "code",
   "execution_count": 113,
   "metadata": {},
   "outputs": [
    {
     "name": "stdout",
     "output_type": "stream",
     "text": [
      "torch.Size([4, 8, 90])\n",
      "torch.Size([4, 8])\n"
     ]
    }
   ],
   "source": [
    "logits = model.token_embedding_table(xb) \n",
    "print(logits.shape)\n",
    "print(yb.shape)"
   ]
  },
  {
   "cell_type": "markdown",
   "metadata": {},
   "source": [
    "But to do this we need to rearrange both tensors."
   ]
  },
  {
   "cell_type": "code",
   "execution_count": 128,
   "metadata": {},
   "outputs": [
    {
     "name": "stdout",
     "output_type": "stream",
     "text": [
      "logits torch.Size([4, 8, 90])\n",
      "targets torch.Size([4, 8])\n",
      "Expected target size [4, 90], got [4, 8]\n",
      "-- Reshape --\n",
      "torch.Size([32, 90])\n",
      "torch.Size([32])\n",
      "tensor(4.9871, grad_fn=<NllLossBackward0>)\n",
      "loss: 4.987088203430176\n"
     ]
    }
   ],
   "source": [
    "targets = yb\n",
    "logits = model.token_embedding_table(xb) \n",
    "B, T, C = logits.shape\n",
    "\n",
    "try:\n",
    "    loss = F.cross_entropy(logits, targets)\n",
    "except Exception as e:\n",
    "    print(\"logits\", logits.shape)\n",
    "    print(\"targets\", targets.shape)\n",
    "    print(e)\n",
    "\n",
    "print(\"-- Reshape --\")\n",
    "logits = logits.view(B*T, C)\n",
    "targets = targets.view(B*T)\n",
    "\n",
    "loss = F.cross_entropy(logits, targets)\n",
    "print(logits.shape)\n",
    "print(targets.shape)\n",
    "print(loss)\n",
    "print(\"loss:\", loss.tolist())"
   ]
  },
  {
   "cell_type": "markdown",
   "metadata": {},
   "source": [
    "Combing the batches into a single dimension 8x4 -> 32 allows the loss function to work on the whole channel. The for each of the 32 individual samples the loss is calculated and aggregated to a single value.\n",
    "\n",
    "We can now add this as the forward method of the model."
   ]
  },
  {
   "cell_type": "code",
   "execution_count": 165,
   "metadata": {},
   "outputs": [],
   "source": [
    "class ExampleModel(nn.Module):\n",
    "    def __init__(self, vocab_size) -> None:\n",
    "        super().__init__()\n",
    "        self.token_embedding_table = nn.Embedding(vocab_size, vocab_size)\n",
    "\n",
    "    def forward(self, idx, targets=None):\n",
    "        # Batch x Time x Channel, tensor prediction of what is next\n",
    "        logits = self.token_embedding_table(idx) \n",
    "\n",
    "        if targets is None: # For predictions\n",
    "            loss = None\n",
    "        else:\n",
    "            # Based on the PyTorch docs we need a B*C x T tensor to calcualate loss\n",
    "            B, T, C = logits.shape\n",
    "            logits = logits.view(B*T, C)\n",
    "            targets = targets.view(B*T)\n",
    "            loss = F.cross_entropy(logits, targets)\n",
    "\n",
    "        return logits , loss "
   ]
  },
  {
   "cell_type": "code",
   "execution_count": 130,
   "metadata": {},
   "outputs": [
    {
     "data": {
      "text/plain": [
       "(tensor([[ 0.3025,  0.3713, -0.7302,  ...,  0.5049,  0.9773,  1.0095],\n",
       "         [-0.0400, -0.6434,  0.0299,  ..., -0.3823, -1.0193,  1.3180],\n",
       "         [-1.9939, -0.0510, -1.5148,  ...,  0.5202, -0.4177,  0.8031],\n",
       "         ...,\n",
       "         [ 0.1601,  0.5197, -0.3772,  ..., -0.4490,  1.2770, -0.0861],\n",
       "         [-0.5634, -0.7825, -0.5443,  ..., -0.6847, -1.7515, -0.9944],\n",
       "         [-0.0400, -0.6434,  0.0299,  ..., -0.3823, -1.0193,  1.3180]],\n",
       "        grad_fn=<ViewBackward0>),\n",
       " tensor(5.0002, grad_fn=<NllLossBackward0>))"
      ]
     },
     "execution_count": 130,
     "metadata": {},
     "output_type": "execute_result"
    }
   ],
   "source": [
    "model = ExampleModel(len(chars))\n",
    "inputs, targets = get_batch(train_data)\n",
    "\n",
    "model(inputs, targets)"
   ]
  },
  {
   "cell_type": "markdown",
   "metadata": {},
   "source": [
    "\n",
    "---\n",
    "\n",
    "### Generation\n",
    "\n",
    "The next thing to add to the model is a method that askes it to generate text based on the current embedding weights. This will be very similar to the forward method but instead of calculating the loss we turn the logits into an output tensor.\n",
    "\n",
    "Choosing a random token:"
   ]
  },
  {
   "cell_type": "code",
   "execution_count": 158,
   "metadata": {},
   "outputs": [
    {
     "data": {
      "text/plain": [
       "'B'"
      ]
     },
     "execution_count": 158,
     "metadata": {},
     "output_type": "execute_result"
    }
   ],
   "source": [
    "token_id = 26\n",
    "decode([token_id])"
   ]
  },
  {
   "cell_type": "markdown",
   "metadata": {},
   "source": [
    "So, can now just get the logits from the forward method."
   ]
  },
  {
   "cell_type": "code",
   "execution_count": 164,
   "metadata": {},
   "outputs": [
    {
     "data": {
      "text/plain": [
       "tensor([[ 1.9797,  1.2903, -1.6743, -0.3600, -0.5906,  0.3411, -0.1042, -1.5382,\n",
       "          0.9629, -2.9014, -0.7761, -0.3944,  0.1249,  1.0574,  0.9309,  2.5278,\n",
       "         -1.6562, -0.0774, -0.1135, -0.5326, -0.0529,  0.0484,  0.4165,  2.8192,\n",
       "         -1.1526,  1.8900,  1.4683,  0.3977,  0.5167, -0.9430,  0.3284,  0.9323,\n",
       "          0.2923,  0.8177,  0.3238, -0.8927,  0.4464,  0.1060, -2.2830, -0.5807,\n",
       "         -0.3417, -0.9795,  0.2206, -0.0862, -0.8546, -1.0500,  0.2394,  0.3870,\n",
       "         -0.4859,  0.0604, -0.2484, -1.1636,  0.5333, -1.0060, -0.6396, -1.0199,\n",
       "         -0.8887, -0.6764, -0.2995,  0.0338,  0.1968,  0.0406, -0.3009,  0.5377,\n",
       "          0.7671, -0.0486, -2.3267, -0.8018, -0.9481, -0.8379,  0.2353, -0.3139,\n",
       "         -0.2043, -2.3731, -1.6635,  0.3826, -0.5835, -0.2579, -0.1750, -0.7196,\n",
       "          0.2570, -0.7750,  1.0990,  0.4749,  0.6344,  0.4972,  0.5820, -0.3775,\n",
       "         -1.8681, -0.8289]], grad_fn=<SliceBackward0>)"
      ]
     },
     "execution_count": 164,
     "metadata": {},
     "output_type": "execute_result"
    }
   ],
   "source": [
    "idx = torch.tensor([[token_id]])\n",
    "logits, loss = model(idx)\n",
    "logits = logits[:, -1, :] \n",
    "logits\n"
   ]
  },
  {
   "cell_type": "markdown",
   "metadata": {},
   "source": [
    "Now we can softmax to get the probabilty of each character."
   ]
  },
  {
   "cell_type": "code",
   "execution_count": 166,
   "metadata": {},
   "outputs": [
    {
     "data": {
      "text/plain": [
       "tensor([[0.0546, 0.0274, 0.0014, 0.0053, 0.0042, 0.0106, 0.0068, 0.0016, 0.0197,\n",
       "         0.0004, 0.0035, 0.0051, 0.0085, 0.0217, 0.0191, 0.0944, 0.0014, 0.0070,\n",
       "         0.0067, 0.0044, 0.0072, 0.0079, 0.0114, 0.1264, 0.0024, 0.0499, 0.0327,\n",
       "         0.0112, 0.0126, 0.0029, 0.0105, 0.0192, 0.0101, 0.0171, 0.0104, 0.0031,\n",
       "         0.0118, 0.0084, 0.0008, 0.0042, 0.0054, 0.0028, 0.0094, 0.0069, 0.0032,\n",
       "         0.0026, 0.0096, 0.0111, 0.0046, 0.0080, 0.0059, 0.0024, 0.0129, 0.0028,\n",
       "         0.0040, 0.0027, 0.0031, 0.0038, 0.0056, 0.0078, 0.0092, 0.0079, 0.0056,\n",
       "         0.0129, 0.0162, 0.0072, 0.0007, 0.0034, 0.0029, 0.0033, 0.0095, 0.0055,\n",
       "         0.0061, 0.0007, 0.0014, 0.0111, 0.0042, 0.0058, 0.0063, 0.0037, 0.0097,\n",
       "         0.0035, 0.0226, 0.0121, 0.0142, 0.0124, 0.0135, 0.0052, 0.0012, 0.0033]],\n",
       "       grad_fn=<SoftmaxBackward0>)"
      ]
     },
     "execution_count": 166,
     "metadata": {},
     "output_type": "execute_result"
    }
   ],
   "source": [
    "probs = F.softmax(logits, dim=-1) \n",
    "probs"
   ]
  },
  {
   "cell_type": "markdown",
   "metadata": {},
   "source": [
    "We can the sample 1 tensor based on the multinomial distribtion across the probabilities."
   ]
  },
  {
   "cell_type": "code",
   "execution_count": 176,
   "metadata": {},
   "outputs": [
    {
     "data": {
      "text/plain": [
       "tensor([[64]])"
      ]
     },
     "execution_count": 176,
     "metadata": {},
     "output_type": "execute_result"
    }
   ],
   "source": [
    "torch.multinomial(probs, num_samples=1)"
   ]
  },
  {
   "cell_type": "markdown",
   "metadata": {},
   "source": [
    "It will help to demonstrate how this works graphically."
   ]
  },
  {
   "cell_type": "code",
   "execution_count": 187,
   "metadata": {},
   "outputs": [],
   "source": [
    "results_dict = {i: 0 for i in range(0, 90)}\n",
    "for _ in range(10000):\n",
    "    result = torch.multinomial(probs, num_samples=1)\n",
    "    results_dict[result[0].tolist()[0]] += 1"
   ]
  },
  {
   "cell_type": "code",
   "execution_count": 188,
   "metadata": {},
   "outputs": [],
   "source": [
    "prob_dict = {}\n",
    "for i, prob in enumerate(probs[0].tolist()):\n",
    "    prob_dict[i] = prob"
   ]
  },
  {
   "cell_type": "code",
   "execution_count": 191,
   "metadata": {},
   "outputs": [
    {
     "data": {
      "image/png": "[encoded data removed]",
      "text/plain": [
       "<Figure size 640x480 with 2 Axes>"
      ]
     },
     "metadata": {},
     "output_type": "display_data"
    }
   ],
   "source": [
    "import matplotlib.pyplot as plt\n",
    "import numpy as np\n",
    "\n",
    "keys = list(prob_dict.keys())\n",
    "values1 = list(prob_dict.values())\n",
    "values2 = list(results_dict.values())\n",
    "\n",
    "bar_width = 0.35\n",
    "\n",
    "r1 = np.arange(len(keys))\n",
    "r2 = [x + bar_width for x in r1]\n",
    "\n",
    "fig, ax1 = plt.subplots()\n",
    "\n",
    "ax1.bar(r1, values1, width=bar_width, label='Dataset 1', color='b')\n",
    "ax1.set_xlabel('Items')\n",
    "ax1.set_ylabel('Probabilities', color='b')\n",
    "ax1.tick_params('y', colors='b')\n",
    "\n",
    "ax2 = ax1.twinx()\n",
    "ax2.bar(r2, values2, width=bar_width, label='Dataset 2', color='g')\n",
    "ax2.set_ylabel('Times Chosen from 10000 Runs', color='g')\n",
    "ax2.tick_params('y', colors='g')\n",
    "\n",
    "plt.show()\n"
   ]
  },
  {
   "cell_type": "markdown",
   "metadata": {},
   "source": [
    "See how the probability and rate of selection relate to one another.\n",
    "\n",
    "Finally we can piece this all together."
   ]
  },
  {
   "cell_type": "code",
   "execution_count": 197,
   "metadata": {},
   "outputs": [
    {
     "name": "stdout",
     "output_type": "stream",
     "text": [
      "Batch: g was a \n",
      "Generation: g was a _eAeí\n"
     ]
    }
   ],
   "source": [
    "class BigramLanguageModel(nn.Module):\n",
    "    def __init__(self, vocab_size) -> None:\n",
    "        super().__init__()\n",
    "        self.token_embedding_table = nn.Embedding(vocab_size, vocab_size)\n",
    "    \n",
    "    def forward(self, idx, targets=None):\n",
    "        logits = self.token_embedding_table(idx) \n",
    "\n",
    "        if targets is None:\n",
    "            loss = None\n",
    "        else:\n",
    "            B, T, C = logits.shape\n",
    "            logits = logits.view(B*T, C)\n",
    "            targets = targets.view(B*T)\n",
    "            loss = F.cross_entropy(logits, targets)\n",
    "\n",
    "        return logits , loss \n",
    "    \n",
    "    def generate(self, idx, max_new_tokens):\n",
    "        for _ in range(max_new_tokens):\n",
    "            logits, loss = self(idx)\n",
    "            logits = logits[:, -1, :] \n",
    "            probs = F.softmax(logits, dim=-1) \n",
    "            idx_next = torch.multinomial(probs, num_samples=1)\n",
    "            idx = torch.cat((idx, idx_next), dim=1)\n",
    "        return idx\n",
    "    \n",
    "m = BigramLanguageModel(len(chars)) \n",
    "\n",
    "print(\"Batch:\", decode(xb[0].tolist()))\n",
    "gen = m.generate(xb, 5)\n",
    "print(\"Generation:\", decode(gen[0].tolist()))\n"
   ]
  },
  {
   "cell_type": "markdown",
   "metadata": {},
   "source": [
    "So, it works. We just need to train it.\n",
    "\n",
    "---\n",
    "\n",
    "### Training Loop\n",
    "\n",
    "The training loop is very simple at this stage. The only additional componant we need is an optimizer which controls the progressive small steps towards the optimum (lowest, in this case) loss.  "
   ]
  },
  {
   "cell_type": "code",
   "execution_count": 199,
   "metadata": {},
   "outputs": [],
   "source": [
    "optimizer = torch.optim.AdamW(m.parameters(), lr=1e-3)"
   ]
  },
  {
   "cell_type": "markdown",
   "metadata": {},
   "source": [
    "With that we can step through the simple loop:\n",
    "\n",
    "For a given number of steps:\n",
    "- Get a batch of the training data\n",
    "- Calculate the loss\n",
    "- Take a step in a direction towards the lower loss. "
   ]
  },
  {
   "cell_type": "code",
   "execution_count": 200,
   "metadata": {},
   "outputs": [
    {
     "data": {
      "text/plain": [
       "<matplotlib.collections.PathCollection at 0x1760eb7d0>"
      ]
     },
     "execution_count": 200,
     "metadata": {},
     "output_type": "execute_result"
    },
    {
     "data": {
      "image/png": "[encoded data removed]",
      "text/plain": [
       "<Figure size 640x480 with 1 Axes>"
      ]
     },
     "metadata": {},
     "output_type": "display_data"
    }
   ],
   "source": [
    "batch_size = 32\n",
    "number_of_steps = 10000\n",
    "losses = []\n",
    "\n",
    "\n",
    "for steps in range(number_of_steps):\n",
    "    xb, yb = get_batch(train_data)          # Getting batch of training data\n",
    "    logits, loss = m(xb, yb)                # Calculate loss\n",
    "\n",
    "    optimizer.zero_grad(set_to_none=True)   \n",
    "    loss.backward()                         # Back propagate the loss.\n",
    "    optimizer.step()                        # Adjust the optimizer.\n",
    "\n",
    "    losses.append(loss.item())              # Storing losses to plot.\n",
    "\n",
    "plt.scatter(range(0, 10000), losses)"
   ]
  },
  {
   "cell_type": "markdown",
   "metadata": {},
   "source": [
    "This does pretty well and should reflect in the improved generation."
   ]
  },
  {
   "cell_type": "code",
   "execution_count": 202,
   "metadata": {},
   "outputs": [
    {
     "name": "stdout",
     "output_type": "stream",
     "text": [
      "Batch: inder of\n",
      "Generation: inder of wowey rgr that\n"
     ]
    }
   ],
   "source": [
    "print(\"Batch:\", decode(xb[0].tolist()))\n",
    "gen = m.generate(xb, 15)\n",
    "print(\"Generation:\", decode(gen[0].tolist()))"
   ]
  },
  {
   "cell_type": "markdown",
   "metadata": {},
   "source": [
    "It's not Tolkien but it does seem to understand the english language better now.\n",
    "\n",
    "---"
   ]
  },
  {
   "cell_type": "markdown",
   "metadata": {},
   "source": [
    "Every token will emitt a vector with a query and a key.\n",
    "\n",
    "The query dot products with the keys of all tokens \n",
    "\n",
    "<br>\n",
    "\n",
    "### Single Head of Self-attention"
   ]
  },
  {
   "cell_type": "code",
   "execution_count": 22,
   "metadata": {},
   "outputs": [
    {
     "data": {
      "text/plain": [
       "tensor([[[ 1.4935, -1.6276,  0.0872, -1.3071],\n",
       "         [ 0.6953,  0.0186,  0.2562, -1.5210],\n",
       "         [-1.2459,  0.0640, -0.9278, -0.9948]],\n",
       "\n",
       "        [[ 1.1397,  0.2125, -1.1663,  0.1579],\n",
       "         [ 0.2349, -0.1376,  0.5638, -1.3693],\n",
       "         [-1.0884, -0.3520,  0.4274,  0.7945]]])"
      ]
     },
     "execution_count": 22,
     "metadata": {},
     "output_type": "execute_result"
    }
   ],
   "source": [
    "B, T, C = 2, 3, 4\n",
    "x = torch.randn(B, T, C)\n",
    "x"
   ]
  },
  {
   "cell_type": "code",
   "execution_count": 23,
   "metadata": {},
   "outputs": [
    {
     "data": {
      "text/plain": [
       "tensor([[[ 1.1424, -0.9539],\n",
       "         [ 0.2758, -0.5659],\n",
       "         [-0.1669,  0.0464]],\n",
       "\n",
       "        [[ 0.2494, -0.4233],\n",
       "         [ 0.1964, -0.3667],\n",
       "         [-0.2130,  0.5483]]], grad_fn=<UnsafeViewBackward0>)"
      ]
     },
     "execution_count": 23,
     "metadata": {},
     "output_type": "execute_result"
    }
   ],
   "source": [
    "head_size = 2\n",
    "key = nn.Linear(C, head_size, bias=False)\n",
    "key(x)"
   ]
  },
  {
   "cell_type": "markdown",
   "metadata": {},
   "source": [
    "The important thing here is that pytorch as initialised some random weights for us. Therefore by default the self attention head starts out with random weights that we will adjust through back-prop."
   ]
  },
  {
   "cell_type": "code",
   "execution_count": 24,
   "metadata": {},
   "outputs": [
    {
     "data": {
      "text/plain": [
       "torch.Size([4, 8, 16])"
      ]
     },
     "execution_count": 24,
     "metadata": {},
     "output_type": "execute_result"
    }
   ],
   "source": [
    "torch.manual_seed(3791)\n",
    "B, T, C = 4, 8, 6\n",
    "x = torch.randn(B, T, C)\n",
    "\n",
    "head_size = 16\n",
    "\n",
    "key = nn.Linear(C, head_size, bias=False)\n",
    "query = nn.Linear(C, head_size, bias=False)\n",
    "value = nn.Linear(C, head_size, bias=False)\n",
    "\n",
    "k = key(x) # B x T x head_size\n",
    "q = query(x)\n",
    "v = value(x)\n",
    "\n",
    "wei = q @ k.transpose(-2, -1) # B x T x 16 @ B x 16 x T -----> (B, T, T) matrix\n",
    "\n",
    "tril = torch.tril(torch.ones(T, T))\n",
    "wei = wei.masked_fill(tril == 0 , float('-inf'))\n",
    "wei = F.softmax(wei, dim=1)\n",
    "\n",
    "out = wei @ v\n",
    "out.shape"
   ]
  },
  {
   "cell_type": "markdown",
   "metadata": {},
   "source": [
    "This is now data dependent due to the key and the query being used to generate the wei"
   ]
  },
  {
   "cell_type": "code",
   "execution_count": 25,
   "metadata": {},
   "outputs": [
    {
     "data": {
      "text/plain": [
       "torch.Size([4, 8, 8])"
      ]
     },
     "execution_count": 25,
     "metadata": {},
     "output_type": "execute_result"
    }
   ],
   "source": [
    "wei.shape"
   ]
  },
  {
   "cell_type": "markdown",
   "metadata": {},
   "source": [
    "High affinity means that some tokens are used more to predict than others and we store and updated the weights for each batch.\n",
    "\n",
    "<br>\n",
    "\n",
    "### Self-attention Module Plugged into Bigram\n"
   ]
  },
  {
   "cell_type": "markdown",
   "metadata": {},
   "source": [
    "We need to use an Embedding table to capture and update the relationships between characters in the vocab list as we go."
   ]
  },
  {
   "cell_type": "code",
   "execution_count": null,
   "metadata": {},
   "outputs": [],
   "source": []
  },
  {
   "cell_type": "code",
   "execution_count": 27,
   "metadata": {},
   "outputs": [],
   "source": [
    "import torch.nn as nn\n",
    "from torch.nn import functional as F\n",
    "\n",
    "class BigramLanguageModel(nn.Module):\n",
    "    def __init__(self, vocab_size) -> None:\n",
    "        super().__init__()\n",
    "        self.token_embedding_table = nn.Embedding(vocab_size, vocab_size)\n",
    "    \n",
    "    def forward(self, idx, targets=None):\n",
    "        # Batch x Time x Channel, tensor prediction of what is next\n",
    "        logits = self.token_embedding_table(idx) \n",
    "\n",
    "        if targets is None:\n",
    "            loss = None\n",
    "        else:\n",
    "            # Based on the PyTorch docs we need a B*C x T tensor to calcualate loss\n",
    "            B, T, C = logits.shape\n",
    "            logits = logits.view(B*T, C)\n",
    "            targets = targets.view(B*T)\n",
    "            loss = F.cross_entropy(logits, targets)\n",
    "\n",
    "        return logits , loss \n",
    "    \n",
    "    def generate(self, idx, max_new_tokens):\n",
    "        # idx is (B, T) array of indices in the current context.\n",
    "        for _ in range(max_new_tokens):\n",
    "            logits, loss = self(idx)\n",
    "            logits = logits[:, -1, :] \n",
    "            probs = F.softmax(logits, dim=-1) \n",
    "            idx_next = torch.multinomial(probs, num_samples=1)\n",
    "            idx = torch.cat((idx, idx_next), dim=1)\n",
    "        return idx"
   ]
  },
  {
   "cell_type": "code",
   "execution_count": 43,
   "metadata": {},
   "outputs": [],
   "source": []
  },
  {
   "cell_type": "code",
   "execution_count": 45,
   "metadata": {},
   "outputs": [
    {
     "name": "stdout",
     "output_type": "stream",
     "text": [
      "tensor([44, 60, 70, 57, 57,  1, 42, 61, 66, 59, 71,  1, 58, 67, 70,  1, 72, 60,\n",
      "        57,  1, 29, 64, 74, 57, 66,  8, 63, 61, 66, 59, 71,  1, 73, 66, 56, 57,\n",
      "        70,  1, 72, 60, 57,  1, 71, 63, 77,  7,  0, 43, 57, 74, 57, 66,  1, 58,\n",
      "        67, 70,  1, 72, 60, 57,  1, 28, 75, 53, 70, 58,  8, 64, 67, 70, 56, 71,\n",
      "         1, 61, 66,  1, 72, 60, 57, 61, 70,  1, 60, 53, 64, 64, 71,  1, 67, 58,\n",
      "         1, 71, 72, 67, 66, 57,  7])\n",
      "\n",
      "Three Rings for the Elven-kings under the sky,\n",
      "Seven for the Dwarf-lords in their halls of stone,\n"
     ]
    }
   ],
   "source": [
    "print(train_data[0:97])\n",
    "print()\n",
    "print(decode(train_data[0:97].tolist()))"
   ]
  },
  {
   "cell_type": "markdown",
   "metadata": {},
   "source": [
    "Okay so we have our encoded text data and we can see where the same characters get the same token id. 1 is a space for example. "
   ]
  },
  {
   "cell_type": "code",
   "execution_count": 51,
   "metadata": {},
   "outputs": [
    {
     "data": {
      "text/plain": [
       "'\\nQ. XQûb)d9IFF;?Iú_M,KCnáJ9Cíkou cdwâ=O4GE4N 9-wlg7M;:3bjaëu`Y8Ná/)7fYy8\\n,ëiWMKë=WëeD upjuUú/qSäc)FTk'"
      ]
     },
     "execution_count": 51,
     "metadata": {},
     "output_type": "execute_result"
    }
   ],
   "source": [
    "torch.manual_seed(3791) # Set manual seed for repeatability. There Rings for the Elven-kings... and so on.\n",
    "\n",
    "\n",
    "\n",
    "m = BigramLanguageModel(len(chars)) \n",
    "idx_init = torch.zeros((1, 1), dtype=torch.long)\n",
    "decode(m.generate(idx_init, max_new_tokens=100)[0].tolist())"
   ]
  },
  {
   "cell_type": "code",
   "execution_count": 33,
   "metadata": {},
   "outputs": [
    {
     "data": {
      "text/plain": [
       "<matplotlib.collections.PathCollection at 0x169ab9210>"
      ]
     },
     "execution_count": 33,
     "metadata": {},
     "output_type": "execute_result"
    },
    {
     "data": {
      "image/png": "[encoded data removed]",
      "text/plain": [
       "<Figure size 640x480 with 1 Axes>"
      ]
     },
     "metadata": {},
     "output_type": "display_data"
    }
   ],
   "source": [
    "batch_size = 32\n",
    "number_of_steps = 10000\n",
    "losses = []\n",
    "optimizer = torch.optim.AdamW(m.parameters(), lr=1e-3)\n",
    "\n",
    "for steps in range(number_of_steps):\n",
    "    xb, yb = get_batch(train_data)\n",
    "\n",
    "    logits, loss = m(xb, yb)\n",
    "    optimizer.zero_grad(set_to_none=True)\n",
    "    loss.backward()\n",
    "    optimizer.step()\n",
    "\n",
    "    losses.append(loss.item())\n",
    "\n",
    "from matplotlib import pyplot as plt\n",
    "\n",
    "plt.scatter(range(0, 10000), losses)"
   ]
  },
  {
   "cell_type": "code",
   "execution_count": 34,
   "metadata": {},
   "outputs": [
    {
     "name": "stdout",
     "output_type": "stream",
     "text": [
      "\n",
      " eng w se sthet by Fome  wimood rlelbs ay,  s fe.ät iOf aret!ldis Thandsere Fou!ë' é'I anghe s wastunth RFOritheeresepremy: pe hinuent heme hop Th awea`Ridobowhiroot Brs t wngashayoumanut-m FYy wouPif wid frmin heigrd p  ArerKGaroondorCo fi03G; foroto spearen t owitce h ved an Oful Hing if pt oryoof rme wawinean le arlat. theng theark   ind  t. t mm.  n  isaine ?'\n",
      " uchut t  Galilin kEntoan a t  irideausited ptrotherd agstheeshere  issat t t  e  ngaá/Ourowe ho t xtit sarouthad?', toond, vee I is; blden'ok wagrd leevemit skeer ors ckery;_, rsabos doutherad wind len, to s oul sande, akiellyshedope se hesude imof f tr wed d whad anthp co ws, m,' akelifoprso jQDebu Br a  eetordofe  ade!\n",
      " nd de r hacl ocou yondlle  ss d  _Thatocror  wr t BOver tllvem.'s Ljalf oued. meileyouadans athenghef Fre ashig, t wenass ay iere t. n, wang, f ts me of obad t hedon hin _l ala2Ainod ow ooropee wit Then I touthand s. thas co lld tsh ly ous bEEppofes, tad I R. ty  Cong witur  Ocleche, t s; It Elfu ghe t Tho \n"
     ]
    }
   ],
   "source": [
    "def generate_text(model, text_length):\n",
    "    idx_init = torch.zeros((1, 1), dtype=torch.long)\n",
    "    return decode(model.generate(idx_init, max_new_tokens=text_length)[0].tolist())\n",
    "\n",
    "print(generate_text(m, 1000))"
   ]
  }
 ],
 "metadata": {
  "kernelspec": {
   "display_name": "base",
   "language": "python",
   "name": "python3"
  },
  "language_info": {
   "codemirror_mode": {
    "name": "ipython",
    "version": 3
   },
   "file_extension": ".py",
   "mimetype": "text/x-python",
   "name": "python",
   "nbconvert_exporter": "python",
   "pygments_lexer": "ipython3",
   "version": "3.11.4"
  }
 },
 "nbformat": 4,
 "nbformat_minor": 2
}
