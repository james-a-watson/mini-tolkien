{
 "cells": [
  {
   "cell_type": "markdown",
   "metadata": {},
   "source": [
    "## Self Attention\n",
    "\n",
    "\n",
    "Using this famous paper: https://arxiv.org/pdf/1706.03762.pdf"
   ]
  },
  {
   "cell_type": "code",
   "execution_count": 14,
   "metadata": {},
   "outputs": [
    {
     "data": {
      "text/plain": [
       "tensor([[[-0.1155,  1.4004, -0.2636,  1.1846,  1.2524, -1.4922],\n",
       "         [-0.8670,  0.4435, -0.1523,  1.5791,  0.4891, -0.6652],\n",
       "         [ 0.4425,  1.0421,  2.1270,  0.2821,  1.6772,  0.9382],\n",
       "         [ 2.4316, -2.7186,  0.4827, -0.3789, -1.6457,  1.4676],\n",
       "         [-0.2117,  0.1744, -1.4542,  0.3945, -0.0648,  1.2230],\n",
       "         [-0.4369, -0.9095, -0.3158, -0.0077, -0.3685, -0.4621],\n",
       "         [-0.0730, -0.1383,  0.0828, -0.8913, -0.1860,  1.4274],\n",
       "         [ 0.0764, -1.2949,  1.2127, -0.9746,  0.3595, -0.8611]],\n",
       "\n",
       "        [[-1.0264, -0.1822, -2.1604,  1.1079, -0.2544,  2.3360],\n",
       "         [-0.4107,  2.4999,  0.4165, -0.5933,  0.4560, -0.1843],\n",
       "         [-1.1413,  0.6564,  0.5931,  0.2935,  0.4171, -0.4676],\n",
       "         [ 1.3102,  1.8109, -0.8727,  0.5862, -1.2576, -0.5111],\n",
       "         [-0.2096,  0.6701, -0.8327, -0.1827,  0.1226,  0.1414],\n",
       "         [ 0.0103,  0.4948,  0.3764, -0.9829, -1.1029, -0.2477],\n",
       "         [ 0.8806, -0.0726, -0.4488, -0.0483,  0.3869,  0.9365],\n",
       "         [ 0.4525, -1.5632, -0.7838,  2.0477, -2.0301,  0.3845]],\n",
       "\n",
       "        [[-0.0235,  0.8740, -0.4227, -0.8268, -0.3243,  0.1627],\n",
       "         [-0.2430,  0.8094, -0.2776, -1.4502, -0.2660, -1.2003],\n",
       "         [-0.6799,  0.0584,  0.1291, -1.2059,  0.6869,  0.4290],\n",
       "         [-0.8087, -0.8682, -1.0550,  0.1484,  2.2146, -1.8750],\n",
       "         [ 1.4572, -0.8909,  0.0561,  1.2683, -1.8164,  1.4747],\n",
       "         [-0.9829,  2.4658, -1.4719, -0.9905,  0.4375, -0.1798],\n",
       "         [-1.4086, -1.4370,  0.9785, -0.9083, -0.8891,  0.3321],\n",
       "         [-0.1324, -1.1440,  0.7905,  0.0388,  1.4693, -1.1780]],\n",
       "\n",
       "        [[-0.5157,  0.1529,  0.2920, -0.2658, -0.9882,  0.5430],\n",
       "         [ 0.7709,  1.2997, -0.4177,  0.4659, -0.2007,  1.9465],\n",
       "         [-1.2897,  0.9298,  0.8394, -0.0186, -0.3920, -0.6830],\n",
       "         [-1.5218,  0.9374,  0.5777, -1.4254, -0.4178,  0.1976],\n",
       "         [ 0.8484, -1.5475, -0.8458,  0.4503, -0.1624, -1.4384],\n",
       "         [-1.1340,  0.8677, -0.1982,  0.8425,  0.5837,  0.4042],\n",
       "         [-0.3233, -0.3534, -2.1427, -1.2338,  0.4704,  0.5347],\n",
       "         [ 0.4937, -1.9373,  0.6810,  0.7266, -1.3359,  0.8726]]])"
      ]
     },
     "execution_count": 14,
     "metadata": {},
     "output_type": "execute_result"
    }
   ],
   "source": [
    "import torch\n",
    "from torch import nn\n",
    "from torch.nn import functional as F\n",
    "\n",
    "torch.manual_seed(3791)\n",
    "B, T, C = 4, 8, 6 # Batch, Time, Channel\n",
    "x = torch.randn(B, T, C)\n",
    "x"
   ]
  },
  {
   "cell_type": "code",
   "execution_count": 15,
   "metadata": {},
   "outputs": [
    {
     "data": {
      "text/plain": [
       "tensor([[1., 0., 0., 0., 0., 0., 0., 0.],\n",
       "        [1., 1., 0., 0., 0., 0., 0., 0.],\n",
       "        [1., 1., 1., 0., 0., 0., 0., 0.],\n",
       "        [1., 1., 1., 1., 0., 0., 0., 0.],\n",
       "        [1., 1., 1., 1., 1., 0., 0., 0.],\n",
       "        [1., 1., 1., 1., 1., 1., 0., 0.],\n",
       "        [1., 1., 1., 1., 1., 1., 1., 0.],\n",
       "        [1., 1., 1., 1., 1., 1., 1., 1.]])"
      ]
     },
     "execution_count": 15,
     "metadata": {},
     "output_type": "execute_result"
    }
   ],
   "source": [
    "tril = torch.tril(torch.ones(T, T))\n",
    "tril"
   ]
  },
  {
   "cell_type": "code",
   "execution_count": 16,
   "metadata": {},
   "outputs": [
    {
     "data": {
      "text/plain": [
       "tensor([[0., 0., 0., 0., 0., 0., 0., 0.],\n",
       "        [0., 0., 0., 0., 0., 0., 0., 0.],\n",
       "        [0., 0., 0., 0., 0., 0., 0., 0.],\n",
       "        [0., 0., 0., 0., 0., 0., 0., 0.],\n",
       "        [0., 0., 0., 0., 0., 0., 0., 0.],\n",
       "        [0., 0., 0., 0., 0., 0., 0., 0.],\n",
       "        [0., 0., 0., 0., 0., 0., 0., 0.],\n",
       "        [0., 0., 0., 0., 0., 0., 0., 0.]])"
      ]
     },
     "execution_count": 16,
     "metadata": {},
     "output_type": "execute_result"
    }
   ],
   "source": [
    "wei = torch.zeros(T, T)\n",
    "wei"
   ]
  },
  {
   "cell_type": "code",
   "execution_count": 17,
   "metadata": {},
   "outputs": [
    {
     "data": {
      "text/plain": [
       "tensor([[0.1250, 0.1250, 0.1250, 0.1250, 0.1250, 0.1250, 0.1250, 0.1250],\n",
       "        [0.1250, 0.1250, 0.1250, 0.1250, 0.1250, 0.1250, 0.1250, 0.1250],\n",
       "        [0.1250, 0.1250, 0.1250, 0.1250, 0.1250, 0.1250, 0.1250, 0.1250],\n",
       "        [0.1250, 0.1250, 0.1250, 0.1250, 0.1250, 0.1250, 0.1250, 0.1250],\n",
       "        [0.1250, 0.1250, 0.1250, 0.1250, 0.1250, 0.1250, 0.1250, 0.1250],\n",
       "        [0.1250, 0.1250, 0.1250, 0.1250, 0.1250, 0.1250, 0.1250, 0.1250],\n",
       "        [0.1250, 0.1250, 0.1250, 0.1250, 0.1250, 0.1250, 0.1250, 0.1250],\n",
       "        [0.1250, 0.1250, 0.1250, 0.1250, 0.1250, 0.1250, 0.1250, 0.1250]])"
      ]
     },
     "execution_count": 17,
     "metadata": {},
     "output_type": "execute_result"
    }
   ],
   "source": [
    "wei_1 = F.softmax(wei, dim=1)\n",
    "wei_1"
   ]
  },
  {
   "cell_type": "code",
   "execution_count": 18,
   "metadata": {},
   "outputs": [
    {
     "data": {
      "text/plain": [
       "tensor([[0., -inf, -inf, -inf, -inf, -inf, -inf, -inf],\n",
       "        [0., 0., -inf, -inf, -inf, -inf, -inf, -inf],\n",
       "        [0., 0., 0., -inf, -inf, -inf, -inf, -inf],\n",
       "        [0., 0., 0., 0., -inf, -inf, -inf, -inf],\n",
       "        [0., 0., 0., 0., 0., -inf, -inf, -inf],\n",
       "        [0., 0., 0., 0., 0., 0., -inf, -inf],\n",
       "        [0., 0., 0., 0., 0., 0., 0., -inf],\n",
       "        [0., 0., 0., 0., 0., 0., 0., 0.]])"
      ]
     },
     "execution_count": 18,
     "metadata": {},
     "output_type": "execute_result"
    }
   ],
   "source": [
    "wei = wei.masked_fill(tril == 0 , float('-inf'))\n",
    "wei"
   ]
  },
  {
   "cell_type": "code",
   "execution_count": 19,
   "metadata": {},
   "outputs": [
    {
     "name": "stdout",
     "output_type": "stream",
     "text": [
      "tensor([[-0.1155,  1.4004, -0.2636,  1.1846,  1.2524, -1.4922],\n",
      "        [-0.8670,  0.4435, -0.1523,  1.5791,  0.4891, -0.6652],\n",
      "        [ 0.4425,  1.0421,  2.1270,  0.2821,  1.6772,  0.9382],\n",
      "        [ 2.4316, -2.7186,  0.4827, -0.3789, -1.6457,  1.4676],\n",
      "        [-0.2117,  0.1744, -1.4542,  0.3945, -0.0648,  1.2230],\n",
      "        [-0.4369, -0.9095, -0.3158, -0.0077, -0.3685, -0.4621],\n",
      "        [-0.0730, -0.1383,  0.0828, -0.8913, -0.1860,  1.4274],\n",
      "        [ 0.0764, -1.2949,  1.2127, -0.9746,  0.3595, -0.8611]])\n",
      "\n",
      "--------------------------------------------------------------------------------\n",
      "\n",
      "tensor([[ 0.1558, -0.2501,  0.2149,  0.1485,  0.1892,  0.1970],\n",
      "        [ 0.1558, -0.2501,  0.2149,  0.1485,  0.1892,  0.1970],\n",
      "        [ 0.1558, -0.2501,  0.2149,  0.1485,  0.1892,  0.1970],\n",
      "        [ 0.1558, -0.2501,  0.2149,  0.1485,  0.1892,  0.1970],\n",
      "        [ 0.1558, -0.2501,  0.2149,  0.1485,  0.1892,  0.1970],\n",
      "        [ 0.1558, -0.2501,  0.2149,  0.1485,  0.1892,  0.1970],\n",
      "        [ 0.1558, -0.2501,  0.2149,  0.1485,  0.1892,  0.1970],\n",
      "        [ 0.1558, -0.2501,  0.2149,  0.1485,  0.1892,  0.1970]])\n"
     ]
    }
   ],
   "source": [
    "out = wei_1 @ x\n",
    "\n",
    "print(x[0])\n",
    "print()\n",
    "print(\"-\"*80)\n",
    "print()\n",
    "print(out[0])"
   ]
  },
  {
   "cell_type": "code",
   "execution_count": 20,
   "metadata": {},
   "outputs": [
    {
     "data": {
      "text/plain": [
       "tensor([-0.4912,  0.9219, -0.2080,  1.3818,  0.8707, -1.0787])"
      ]
     },
     "execution_count": 20,
     "metadata": {},
     "output_type": "execute_result"
    }
   ],
   "source": [
    "v_1 = torch.tensor([0.5000, 0.5000, 0.0000, 0.0000, 0.0000, 0.0000, 0.0000, 0.0000])\n",
    "\n",
    "v_1 @ x[0]"
   ]
  },
  {
   "cell_type": "code",
   "execution_count": 21,
   "metadata": {},
   "outputs": [
    {
     "data": {
      "text/plain": [
       "-0.49125"
      ]
     },
     "execution_count": 21,
     "metadata": {},
     "output_type": "execute_result"
    }
   ],
   "source": [
    "-0.1155*0.5 + -0.8670*0.5"
   ]
  },
  {
   "cell_type": "markdown",
   "metadata": {},
   "source": [
    "Every token will emitt a vector with a query and a key.\n",
    "\n",
    "The query dot products with the keys of all tokens \n",
    "\n",
    "<br>\n",
    "\n",
    "### Single Head of Self-attention"
   ]
  },
  {
   "cell_type": "code",
   "execution_count": 22,
   "metadata": {},
   "outputs": [
    {
     "data": {
      "text/plain": [
       "tensor([[[ 1.4935, -1.6276,  0.0872, -1.3071],\n",
       "         [ 0.6953,  0.0186,  0.2562, -1.5210],\n",
       "         [-1.2459,  0.0640, -0.9278, -0.9948]],\n",
       "\n",
       "        [[ 1.1397,  0.2125, -1.1663,  0.1579],\n",
       "         [ 0.2349, -0.1376,  0.5638, -1.3693],\n",
       "         [-1.0884, -0.3520,  0.4274,  0.7945]]])"
      ]
     },
     "execution_count": 22,
     "metadata": {},
     "output_type": "execute_result"
    }
   ],
   "source": [
    "B, T, C = 2, 3, 4\n",
    "x = torch.randn(B, T, C)\n",
    "x"
   ]
  },
  {
   "cell_type": "code",
   "execution_count": 23,
   "metadata": {},
   "outputs": [
    {
     "data": {
      "text/plain": [
       "tensor([[[ 1.1424, -0.9539],\n",
       "         [ 0.2758, -0.5659],\n",
       "         [-0.1669,  0.0464]],\n",
       "\n",
       "        [[ 0.2494, -0.4233],\n",
       "         [ 0.1964, -0.3667],\n",
       "         [-0.2130,  0.5483]]], grad_fn=<UnsafeViewBackward0>)"
      ]
     },
     "execution_count": 23,
     "metadata": {},
     "output_type": "execute_result"
    }
   ],
   "source": [
    "head_size = 2\n",
    "key = nn.Linear(C, head_size, bias=False)\n",
    "key(x)"
   ]
  },
  {
   "cell_type": "markdown",
   "metadata": {},
   "source": [
    "The important thing here is that pytorch as initialised some random weights for us. Therefore by default the self attention head starts out with random weights that we will adjust through back-prop."
   ]
  },
  {
   "cell_type": "code",
   "execution_count": 24,
   "metadata": {},
   "outputs": [
    {
     "data": {
      "text/plain": [
       "torch.Size([4, 8, 16])"
      ]
     },
     "execution_count": 24,
     "metadata": {},
     "output_type": "execute_result"
    }
   ],
   "source": [
    "torch.manual_seed(3791)\n",
    "B, T, C = 4, 8, 6\n",
    "x = torch.randn(B, T, C)\n",
    "\n",
    "head_size = 16\n",
    "\n",
    "key = nn.Linear(C, head_size, bias=False)\n",
    "query = nn.Linear(C, head_size, bias=False)\n",
    "value = nn.Linear(C, head_size, bias=False)\n",
    "\n",
    "k = key(x) # B x T x head_size\n",
    "q = query(x)\n",
    "v = value(x)\n",
    "\n",
    "wei = q @ k.transpose(-2, -1) # B x T x 16 @ B x 16 x T -----> (B, T, T) matrix\n",
    "\n",
    "tril = torch.tril(torch.ones(T, T))\n",
    "wei = wei.masked_fill(tril == 0 , float('-inf'))\n",
    "wei = F.softmax(wei, dim=1)\n",
    "\n",
    "out = wei @ v\n",
    "out.shape"
   ]
  },
  {
   "cell_type": "markdown",
   "metadata": {},
   "source": [
    "This is now data dependent due to the key and the query being used to generate the wei"
   ]
  },
  {
   "cell_type": "code",
   "execution_count": 25,
   "metadata": {},
   "outputs": [
    {
     "data": {
      "text/plain": [
       "torch.Size([4, 8, 8])"
      ]
     },
     "execution_count": 25,
     "metadata": {},
     "output_type": "execute_result"
    }
   ],
   "source": [
    "wei.shape"
   ]
  },
  {
   "cell_type": "markdown",
   "metadata": {},
   "source": [
    "High affinity means that some tokens are used more to predict than others and we store and updated the weights for each batch.\n",
    "\n",
    "<br>\n",
    "\n",
    "### Self-attention Module Plugged into Bigram\n"
   ]
  },
  {
   "cell_type": "code",
   "execution_count": 26,
   "metadata": {},
   "outputs": [],
   "source": [
    "with open('the_lord_of_the_rings.txt', 'r', encoding='utf-8') as f:\n",
    "    text = f.read()\n",
    "\n",
    "# here are all the unique characters that occur in this text\n",
    "chars = sorted(list(set(text)))\n",
    "vocab_size = len(chars)\n",
    "# create a mapping from characters to integers\n",
    "stoi = { ch:i for i,ch in enumerate(chars) }\n",
    "itos = { i:ch for i,ch in enumerate(chars) }\n",
    "encode = lambda s: [stoi[c] for c in s] # encoder: take a string, output a list of integers\n",
    "decode = lambda l: ''.join([itos[i] for i in l]) # decoder: take a list of integers, output a string\n",
    "\n",
    "# Train and test splits\n",
    "data = torch.tensor(encode(text), dtype=torch.long)\n",
    "n = int(0.9*len(data)) # first 90% will be train, rest val\n",
    "train_data = data[:n]\n",
    "val_data = data[n:]"
   ]
  },
  {
   "cell_type": "code",
   "execution_count": 27,
   "metadata": {},
   "outputs": [],
   "source": [
    "import torch.nn as nn\n",
    "from torch.nn import functional as F\n",
    "\n",
    "class BigramLanguageModel(nn.Module):\n",
    "    def __init__(self, vocab_size) -> None:\n",
    "        super().__init__()\n",
    "        self.token_embedding_table = nn.Embedding(vocab_size, vocab_size)\n",
    "    \n",
    "    def forward(self, idx, targets=None):\n",
    "        # Batch x Time x Channel, tensor prediction of what is next\n",
    "        logits = self.token_embedding_table(idx) \n",
    "\n",
    "        if targets is None:\n",
    "            loss = None\n",
    "        else:\n",
    "            # Based on the PyTorch docs we need a B*C x T tensor to calcualate loss\n",
    "            B, T, C = logits.shape\n",
    "            logits = logits.view(B*T, C)\n",
    "            targets = targets.view(B*T)\n",
    "            loss = F.cross_entropy(logits, targets)\n",
    "\n",
    "        return logits , loss \n",
    "    \n",
    "    def generate(self, idx, max_new_tokens):\n",
    "        # idx is (B, T) array of indices in the current context.\n",
    "        for _ in range(max_new_tokens):\n",
    "            logits, loss = self(idx)\n",
    "            logits = logits[:, -1, :] \n",
    "            probs = F.softmax(logits, dim=-1) \n",
    "            idx_next = torch.multinomial(probs, num_samples=1)\n",
    "            idx = torch.cat((idx, idx_next), dim=1)\n",
    "        return idx"
   ]
  },
  {
   "cell_type": "code",
   "execution_count": 28,
   "metadata": {},
   "outputs": [
    {
     "data": {
      "text/plain": [
       "tensor([[ 1, 68, 70, 67, 55, 57, 57, 56, 41,  4],\n",
       "        [66, 56,  1, 72, 60, 61, 66, 63,  9,  9],\n",
       "        [72, 60, 53, 72,  1, 60, 53, 56,  1, 54],\n",
       "        [ 1, 72, 60, 57, 65,  1, 75, 60, 14, 86]])"
      ]
     },
     "execution_count": 28,
     "metadata": {},
     "output_type": "execute_result"
    }
   ],
   "source": [
    "torch.manual_seed(3791) # Set manual seed for repeatability. There Rings for the Elven-kings... and so on.\n",
    "\n",
    "batch_size = 4 # Number independant sequences of tokens we will process in parrallel\n",
    "block_size = 8 # Maximum context length for predictions\n",
    "\n",
    "def get_batch(data):\n",
    "    ix = torch.randint(len(data) - block_size, (batch_size,))\n",
    "    x = torch.stack([data[i:i+block_size] for i in ix])\n",
    "    y = torch.stack([data[i+1:i+block_size+1] for i in ix])\n",
    "    return x, y, \n",
    "\n",
    "xb, yb = get_batch(train_data)\n",
    "\n",
    "m = BigramLanguageModel(len(chars)) \n",
    "m.generate(xb, 2)"
   ]
  },
  {
   "cell_type": "code",
   "execution_count": 32,
   "metadata": {},
   "outputs": [
    {
     "data": {
      "text/plain": [
       "'\\nJw/cb, ?xb4`_D5Ht;Ó-4VKNóÓâft )jug:Eéúû5LZ\\nSeT\\nWëäó(!ái Uíps nmrH?;rTA\\n;,1C5TxhUoRs!mLp_rÓë)ioéHDzCp'"
      ]
     },
     "execution_count": 32,
     "metadata": {},
     "output_type": "execute_result"
    }
   ],
   "source": [
    "idx_init = torch.zeros((1, 1), dtype=torch.long)\n",
    "decode(m.generate(idx_init, max_new_tokens=100)[0].tolist())"
   ]
  },
  {
   "cell_type": "code",
   "execution_count": 33,
   "metadata": {},
   "outputs": [
    {
     "data": {
      "text/plain": [
       "<matplotlib.collections.PathCollection at 0x169ab9210>"
      ]
     },
     "execution_count": 33,
     "metadata": {},
     "output_type": "execute_result"
    },
    {
     "data": {
      "image/png": "[encoded data removed]",
      "text/plain": [
       "<Figure size 640x480 with 1 Axes>"
      ]
     },
     "metadata": {},
     "output_type": "display_data"
    }
   ],
   "source": [
    "batch_size = 32\n",
    "number_of_steps = 10000\n",
    "losses = []\n",
    "optimizer = torch.optim.AdamW(m.parameters(), lr=1e-3)\n",
    "\n",
    "for steps in range(number_of_steps):\n",
    "    xb, yb = get_batch(train_data)\n",
    "\n",
    "    logits, loss = m(xb, yb)\n",
    "    optimizer.zero_grad(set_to_none=True)\n",
    "    loss.backward()\n",
    "    optimizer.step()\n",
    "\n",
    "    losses.append(loss.item())\n",
    "\n",
    "from matplotlib import pyplot as plt\n",
    "\n",
    "plt.scatter(range(0, 10000), losses)"
   ]
  },
  {
   "cell_type": "code",
   "execution_count": 34,
   "metadata": {},
   "outputs": [
    {
     "name": "stdout",
     "output_type": "stream",
     "text": [
      "\n",
      " eng w se sthet by Fome  wimood rlelbs ay,  s fe.ät iOf aret!ldis Thandsere Fou!ë' é'I anghe s wastunth RFOritheeresepremy: pe hinuent heme hop Th awea`Ridobowhiroot Brs t wngashayoumanut-m FYy wouPif wid frmin heigrd p  ArerKGaroondorCo fi03G; foroto spearen t owitce h ved an Oful Hing if pt oryoof rme wawinean le arlat. theng theark   ind  t. t mm.  n  isaine ?'\n",
      " uchut t  Galilin kEntoan a t  irideausited ptrotherd agstheeshere  issat t t  e  ngaá/Ourowe ho t xtit sarouthad?', toond, vee I is; blden'ok wagrd leevemit skeer ors ckery;_, rsabos doutherad wind len, to s oul sande, akiellyshedope se hesude imof f tr wed d whad anthp co ws, m,' akelifoprso jQDebu Br a  eetordofe  ade!\n",
      " nd de r hacl ocou yondlle  ss d  _Thatocror  wr t BOver tllvem.'s Ljalf oued. meileyouadans athenghef Fre ashig, t wenass ay iere t. n, wang, f ts me of obad t hedon hin _l ala2Ainod ow ooropee wit Then I touthand s. thas co lld tsh ly ous bEEppofes, tad I R. ty  Cong witur  Ocleche, t s; It Elfu ghe t Tho \n"
     ]
    }
   ],
   "source": [
    "def generate_text(model, text_length):\n",
    "    idx_init = torch.zeros((1, 1), dtype=torch.long)\n",
    "    return decode(model.generate(idx_init, max_new_tokens=text_length)[0].tolist())\n",
    "\n",
    "print(generate_text(m, 1000))"
   ]
  }
 ],
 "metadata": {
  "kernelspec": {
   "display_name": "base",
   "language": "python",
   "name": "python3"
  },
  "language_info": {
   "codemirror_mode": {
    "name": "ipython",
    "version": 3
   },
   "file_extension": ".py",
   "mimetype": "text/x-python",
   "name": "python",
   "nbconvert_exporter": "python",
   "pygments_lexer": "ipython3",
   "version": "3.11.4"
  }
 },
 "nbformat": 4,
 "nbformat_minor": 2
}
